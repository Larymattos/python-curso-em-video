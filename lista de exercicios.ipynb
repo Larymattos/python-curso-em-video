{
 "cells": [
  {
   "cell_type": "code",
   "execution_count": 1,
   "metadata": {},
   "outputs": [
    {
     "name": "stdout",
     "output_type": "stream",
     "text": [
      "A soma entre 5 e 6 será 11\n"
     ]
    }
   ],
   "source": [
    "# Desafio 2- Crie um programa que leia dois números e mostre a soma entre eles:\n",
    "n1 = int(input(\"Digite o primeiro número: \"))\n",
    "n2 = int(input(\"Digite o segundo número: \"))\n",
    "soma = n1 + n2\n",
    "print(\"A soma entre {} e {} será {}\".format(n1, n2, soma))"
   ]
  },
  {
   "cell_type": "code",
   "execution_count": 1,
   "metadata": {},
   "outputs": [
    {
     "name": "stdout",
     "output_type": "stream",
     "text": [
      "True\n"
     ]
    }
   ],
   "source": [
    "#Desafio 3- faça um programa que leia algo pelo teclado e mostre na tela o seu tipo primitivo e todos as informações possiveis sobre ele.\n",
    "\n",
    "n = input(\"Digite algo: \")\n",
    "print(n.isdecimal())  "
   ]
  },
  {
   "cell_type": "code",
   "execution_count": 2,
   "metadata": {},
   "outputs": [
    {
     "name": "stdout",
     "output_type": "stream",
     "text": [
      "O 5 tem como sucessor 6 e antecessor 4\n"
     ]
    }
   ],
   "source": [
    "#faça um programa que leia um numero inteiro e mostre na tela o seu sucessor e seu antecessor:\n",
    "\n",
    "num = int(input(\"Digite um numero: \"))\n",
    "s = num + 1\n",
    "a = num - 1\n",
    "print(\"O {} tem como sucessor {} e antecessor {}\".format(num, s, a))"
   ]
  },
  {
   "cell_type": "code",
   "execution_count": 4,
   "metadata": {},
   "outputs": [
    {
     "name": "stdout",
     "output_type": "stream",
     "text": [
      "o dobro de 10 e 20 e triplo 30 \n",
      "Sua raiz quadrada e 3.16\n"
     ]
    }
   ],
   "source": [
    "#crie um algoritmo que leia um numero e mostre o seu dobro, triplo e raiz quadrada.\n",
    "\n",
    "num = int(input(\"Digite um numero: \"))\n",
    "num_dobro = num * 2\n",
    "num_triplo = num * 3\n",
    "num_raizQuadrada = num ** 0.5 #calcular a raiz usando a potencia de 0.5\n",
    "\n",
    "print(\"o dobro de {} e {} e triplo {} \".format(num, num_dobro, num_triplo))\n",
    "print(\"Sua raiz quadrada e {:.2f}\".format(num_raizQuadrada)) # Formatação para duas casas decimais"
   ]
  },
  {
   "cell_type": "code",
   "execution_count": 6,
   "metadata": {},
   "outputs": [
    {
     "name": "stdout",
     "output_type": "stream",
     "text": [
      "A sua media sera de 6.50\n"
     ]
    }
   ],
   "source": [
    "#desenvolva um programa que leia as duas notas de um aluno, calcule e mostre a media.\n",
    "\n",
    "nota1 = float(input(\"Digite sua primeira nota: \")) # float: podem ter valores decimais  \n",
    "nota2 = float(input(\"Digite sua segundda nota: \"))\n",
    "soma_nota = nota1 + nota2  # somar as dua notas\n",
    "media = soma_nota / 2 # depois dividi - las \n",
    "\n",
    "print(\"A sua media sera de {:.2f}\".format(media))\n",
    "\n"
   ]
  },
  {
   "cell_type": "code",
   "execution_count": 3,
   "metadata": {},
   "outputs": [
    {
     "name": "stdout",
     "output_type": "stream",
     "text": [
      "O valor em centimetros sera 300.00 cm\n",
      "O valor em milimetros sera 3000.00 mm\n"
     ]
    }
   ],
   "source": [
    "\n",
    "#escreva um programa que leia um valor em metros e a exiba convertido em centimetros e milimetros.\n",
    "\n",
    "valor_metros = float(input(\"Digite o valor que deseja converter: \"))\n",
    "valor_centimetros = valor_metros * 100\n",
    "valor_milimetros = valor_metros * 1000\n",
    "\n",
    "print(\"O valor em centimetros sera {:.2f} cm\".format(valor_centimetros))\n",
    "print(\"O valor em milimetros sera {:.2f} mm\".format(valor_milimetros))"
   ]
  },
  {
   "cell_type": "code",
   "execution_count": 4,
   "metadata": {},
   "outputs": [
    {
     "name": "stdout",
     "output_type": "stream",
     "text": [
      "Tabuada do número 6:\n",
      "6 x 1 = 6\n",
      "6 x 2 = 12\n",
      "6 x 3 = 18\n",
      "6 x 4 = 24\n",
      "6 x 5 = 30\n",
      "6 x 6 = 36\n",
      "6 x 7 = 42\n",
      "6 x 8 = 48\n",
      "6 x 9 = 54\n",
      "6 x 10 = 60\n"
     ]
    }
   ],
   "source": [
    "#faça um programa que leia um numero inteiro qualquer e mostre na tela a sua tabuada.\n",
    "\n",
    "numero = int(input(\"Digite um número inteiro para ver a sua tabuada: \"))\n",
    "\n",
    "resultado_1 = numero * 1\n",
    "resultado_2 = numero * 2\n",
    "resultado_3 = numero * 3\n",
    "resultado_4 = numero * 4\n",
    "resultado_5 = numero * 5\n",
    "resultado_6 = numero * 6\n",
    "resultado_7 = numero * 7\n",
    "resultado_8 = numero * 8\n",
    "resultado_9 = numero * 9\n",
    "resultado_10 = numero * 10\n",
    "\n",
    "print(\"Tabuada do número {}:\".format(numero))\n",
    "print(\"{} x 1 = {}\".format(numero, resultado_1))\n",
    "print(\"{} x 2 = {}\".format(numero, resultado_2))\n",
    "print(\"{} x 3 = {}\".format(numero, resultado_3))\n",
    "print(\"{} x 4 = {}\".format(numero, resultado_4))\n",
    "print(\"{} x 5 = {}\".format(numero, resultado_5))\n",
    "print(\"{} x 6 = {}\".format(numero, resultado_6))\n",
    "print(\"{} x 7 = {}\".format(numero, resultado_7))\n",
    "print(\"{} x 8 = {}\".format(numero, resultado_8))\n",
    "print(\"{} x 9 = {}\".format(numero, resultado_9))\n",
    "print(\"{} x 10 = {}\".format(numero, resultado_10))\n"
   ]
  },
  {
   "cell_type": "code",
   "execution_count": 5,
   "metadata": {},
   "outputs": [
    {
     "name": "stdout",
     "output_type": "stream",
     "text": [
      "a quantidade em dolar que voce pode comprar sera de 48.08\n"
     ]
    }
   ],
   "source": [
    "#crie um programa que leia quanto dinheiro  uma pessoa tem na carteira e mostre quantos dolares e a pode comprar:\n",
    "\n",
    "quantia_dinheiro = float(input(\"Digite a quantidade de dinheiro: \"))\n",
    "quantia_dolar = quantia_dinheiro / 5.20\n",
    "\n",
    "print(\"a quantidade em dolar que voce pode comprar sera de {:.2f}\".format(quantia_dolar))"
   ]
  },
  {
   "cell_type": "code",
   "execution_count": 8,
   "metadata": {},
   "outputs": [
    {
     "name": "stdout",
     "output_type": "stream",
     "text": [
      "A quantidade de tinta de 6.0 L, sera necessaria para pintar a aréa de 12.0 metros quadrados\n"
     ]
    }
   ],
   "source": [
    "#faça um programa que leia a largura e a altura de uma parede em metros, calcule a sua area e a quantidade de tinta necessaria para pinta-la, sabendo que cada litro de tinta. pinta uma area de 2m².\n",
    "\n",
    "largura = float(input(\"Digite a largura: \"))\n",
    "altura = float(input(\"digite a altura: \"))\n",
    "area = largura * altura\n",
    "quantidade_tinta = area / 2 \n",
    "\n",
    "print(\"A quantidade de tinta de {} L, sera necessaria para pintar a aréa de {} metros quadrados\".format(quantidade_tinta, area))\n",
    "\n"
   ]
  },
  {
   "cell_type": "code",
   "execution_count": null,
   "metadata": {},
   "outputs": [],
   "source": [
    "#Faça um algoritmo que leia o preço de um produto e mostre seu novo preço, com 5% de desconto:\n"
   ]
  }
 ],
 "metadata": {
  "kernelspec": {
   "display_name": "Python 3",
   "language": "python",
   "name": "python3"
  },
  "language_info": {
   "codemirror_mode": {
    "name": "ipython",
    "version": 3
   },
   "file_extension": ".py",
   "mimetype": "text/x-python",
   "name": "python",
   "nbconvert_exporter": "python",
   "pygments_lexer": "ipython3",
   "version": "3.11.4"
  },
  "orig_nbformat": 4
 },
 "nbformat": 4,
 "nbformat_minor": 2
}
